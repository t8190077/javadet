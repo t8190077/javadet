{
 "cells": [
  {
   "cell_type": "code",
   "execution_count": 98,
   "metadata": {},
   "outputs": [],
   "source": [
    "import pandas as pd\n",
    "import matplotlib.pyplot as plt"
   ]
  },
  {
   "cell_type": "code",
   "execution_count": 99,
   "metadata": {},
   "outputs": [
    {
     "data": {
      "text/html": [
       "<div>\n",
       "<style scoped>\n",
       "    .dataframe tbody tr th:only-of-type {\n",
       "        vertical-align: middle;\n",
       "    }\n",
       "\n",
       "    .dataframe tbody tr th {\n",
       "        vertical-align: top;\n",
       "    }\n",
       "\n",
       "    .dataframe thead th {\n",
       "        text-align: right;\n",
       "    }\n",
       "</style>\n",
       "<table border=\"1\" class=\"dataframe\">\n",
       "  <thead>\n",
       "    <tr style=\"text-align: right;\">\n",
       "      <th></th>\n",
       "      <th>Names</th>\n",
       "      <th>ID</th>\n",
       "      <th>AMKA</th>\n",
       "      <th>DOB</th>\n",
       "      <th>EMAIL</th>\n",
       "      <th>PHONE</th>\n",
       "      <th>AMKACHAIN</th>\n",
       "    </tr>\n",
       "  </thead>\n",
       "  <tbody>\n",
       "    <tr>\n",
       "      <th>0</th>\n",
       "      <td>Eric</td>\n",
       "      <td>0</td>\n",
       "      <td>1</td>\n",
       "      <td>w</td>\n",
       "      <td>w</td>\n",
       "      <td>w</td>\n",
       "      <td>[1]</td>\n",
       "    </tr>\n",
       "    <tr>\n",
       "      <th>1</th>\n",
       "      <td>ferdi</td>\n",
       "      <td>1</td>\n",
       "      <td>2</td>\n",
       "      <td>w</td>\n",
       "      <td>w</td>\n",
       "      <td>w</td>\n",
       "      <td>[1]</td>\n",
       "    </tr>\n",
       "    <tr>\n",
       "      <th>2</th>\n",
       "      <td>jo</td>\n",
       "      <td>2</td>\n",
       "      <td>3</td>\n",
       "      <td>w</td>\n",
       "      <td>w</td>\n",
       "      <td>w</td>\n",
       "      <td>[1, 2]</td>\n",
       "    </tr>\n",
       "    <tr>\n",
       "      <th>3</th>\n",
       "      <td>pied</td>\n",
       "      <td>3</td>\n",
       "      <td>4</td>\n",
       "      <td>w</td>\n",
       "      <td>w</td>\n",
       "      <td>w</td>\n",
       "      <td>[1, 3]</td>\n",
       "    </tr>\n",
       "    <tr>\n",
       "      <th>4</th>\n",
       "      <td>piper</td>\n",
       "      <td>4</td>\n",
       "      <td>5</td>\n",
       "      <td>w</td>\n",
       "      <td>w</td>\n",
       "      <td>w</td>\n",
       "      <td>[5]</td>\n",
       "    </tr>\n",
       "    <tr>\n",
       "      <th>5</th>\n",
       "      <td>hooli</td>\n",
       "      <td>5</td>\n",
       "      <td>6</td>\n",
       "      <td>w</td>\n",
       "      <td>w</td>\n",
       "      <td>w</td>\n",
       "      <td>[2]</td>\n",
       "    </tr>\n",
       "    <tr>\n",
       "      <th>6</th>\n",
       "      <td>yo</td>\n",
       "      <td>6</td>\n",
       "      <td>7</td>\n",
       "      <td>r</td>\n",
       "      <td>r</td>\n",
       "      <td>r</td>\n",
       "      <td>[5]</td>\n",
       "    </tr>\n",
       "    <tr>\n",
       "      <th>7</th>\n",
       "      <td>dfg</td>\n",
       "      <td>7</td>\n",
       "      <td>8</td>\n",
       "      <td>r</td>\n",
       "      <td>r</td>\n",
       "      <td>r</td>\n",
       "      <td>[5]</td>\n",
       "    </tr>\n",
       "    <tr>\n",
       "      <th>8</th>\n",
       "      <td>sd</td>\n",
       "      <td>8</td>\n",
       "      <td>9</td>\n",
       "      <td>f</td>\n",
       "      <td>f</td>\n",
       "      <td>f</td>\n",
       "      <td>[5]</td>\n",
       "    </tr>\n",
       "    <tr>\n",
       "      <th>9</th>\n",
       "      <td>hjk</td>\n",
       "      <td>9</td>\n",
       "      <td>10</td>\n",
       "      <td>asd</td>\n",
       "      <td>s</td>\n",
       "      <td>s</td>\n",
       "      <td>[1, 6]</td>\n",
       "    </tr>\n",
       "    <tr>\n",
       "      <th>10</th>\n",
       "      <td>wer</td>\n",
       "      <td>10</td>\n",
       "      <td>11</td>\n",
       "      <td>w</td>\n",
       "      <td>w</td>\n",
       "      <td>w</td>\n",
       "      <td>[2]</td>\n",
       "    </tr>\n",
       "    <tr>\n",
       "      <th>11</th>\n",
       "      <td>qwe</td>\n",
       "      <td>11</td>\n",
       "      <td>12</td>\n",
       "      <td>w</td>\n",
       "      <td>e</td>\n",
       "      <td>w</td>\n",
       "      <td>[11]</td>\n",
       "    </tr>\n",
       "    <tr>\n",
       "      <th>12</th>\n",
       "      <td>sdf</td>\n",
       "      <td>12</td>\n",
       "      <td>13</td>\n",
       "      <td>w</td>\n",
       "      <td>w</td>\n",
       "      <td>w</td>\n",
       "      <td>[11]</td>\n",
       "    </tr>\n",
       "    <tr>\n",
       "      <th>13</th>\n",
       "      <td>sdf</td>\n",
       "      <td>13</td>\n",
       "      <td>14</td>\n",
       "      <td>w</td>\n",
       "      <td>w</td>\n",
       "      <td>w</td>\n",
       "      <td>[11, 9]</td>\n",
       "    </tr>\n",
       "    <tr>\n",
       "      <th>14</th>\n",
       "      <td>wer</td>\n",
       "      <td>14</td>\n",
       "      <td>15</td>\n",
       "      <td>r</td>\n",
       "      <td>r</td>\n",
       "      <td>r</td>\n",
       "      <td>[15]</td>\n",
       "    </tr>\n",
       "    <tr>\n",
       "      <th>15</th>\n",
       "      <td>ert</td>\n",
       "      <td>15</td>\n",
       "      <td>16</td>\n",
       "      <td>t</td>\n",
       "      <td>t</td>\n",
       "      <td>t</td>\n",
       "      <td>[16]</td>\n",
       "    </tr>\n",
       "  </tbody>\n",
       "</table>\n",
       "</div>"
      ],
      "text/plain": [
       "    Names  ID AMKA  DOB EMAIL PHONE AMKACHAIN\n",
       "0    Eric   0    1    w     w     w       [1]\n",
       "1   ferdi   1    2    w     w     w       [1]\n",
       "2      jo   2    3    w     w     w    [1, 2]\n",
       "3    pied   3    4    w     w     w    [1, 3]\n",
       "4   piper   4    5    w     w     w       [5]\n",
       "5   hooli   5    6    w     w     w       [2]\n",
       "6      yo   6    7    r     r     r       [5]\n",
       "7     dfg   7    8    r     r     r       [5]\n",
       "8      sd   8    9    f     f     f       [5]\n",
       "9     hjk   9   10  asd     s     s    [1, 6]\n",
       "10    wer  10   11    w     w     w       [2]\n",
       "11    qwe  11   12    w     e     w      [11]\n",
       "12    sdf  12   13    w     w     w      [11]\n",
       "13    sdf  13   14    w     w     w   [11, 9]\n",
       "14    wer  14   15    r     r     r      [15]\n",
       "15    ert  15   16    t     t     t      [16]"
      ]
     },
     "execution_count": 99,
     "metadata": {},
     "output_type": "execute_result"
    }
   ],
   "source": [
    "headers = ['Names','ID','AMKA','DOB','EMAIL','PHONE','AMKACHAIN']\n",
    "patientsnetwork = pd.read_csv('data.txt', names = headers)\n",
    "patientsnetwork = patientsnetwork.astype(str)\n",
    "patientsnetwork['AMKACHAIN']=patientsnetwork['AMKACHAIN'].apply(lambda x: x.split(\" \"))\n",
    "\n",
    "patientsnetwork"
   ]
  },
  {
   "cell_type": "code",
   "execution_count": null,
   "metadata": {},
   "outputs": [],
   "source": []
  },
  {
   "cell_type": "code",
   "execution_count": 100,
   "metadata": {},
   "outputs": [],
   "source": [
    "import networkx as nx\n",
    "\n",
    "adj = patientsnetwork['AMKACHAIN'].tolist()\n"
   ]
  },
  {
   "cell_type": "code",
   "execution_count": 101,
   "metadata": {},
   "outputs": [
    {
     "data": {
      "text/plain": [
       "['1',\n",
       " '2',\n",
       " '3',\n",
       " '4',\n",
       " '5',\n",
       " '6',\n",
       " '7',\n",
       " '8',\n",
       " '9',\n",
       " '10',\n",
       " '11',\n",
       " '12',\n",
       " '13',\n",
       " '14',\n",
       " '15',\n",
       " '16']"
      ]
     },
     "execution_count": 101,
     "metadata": {},
     "output_type": "execute_result"
    }
   ],
   "source": [
    "names = patientsnetwork['AMKA'].tolist()\n",
    "\n",
    "names"
   ]
  },
  {
   "cell_type": "code",
   "execution_count": 102,
   "metadata": {},
   "outputs": [
    {
     "data": {
      "text/plain": [
       "{'1': ['1'],\n",
       " '2': ['1'],\n",
       " '3': ['1', '2'],\n",
       " '4': ['1', '3'],\n",
       " '5': ['5'],\n",
       " '6': ['2'],\n",
       " '7': ['5'],\n",
       " '8': ['5'],\n",
       " '9': ['5'],\n",
       " '10': ['1', '6'],\n",
       " '11': ['2'],\n",
       " '12': ['11'],\n",
       " '13': ['11'],\n",
       " '14': ['11', '9'],\n",
       " '15': ['15'],\n",
       " '16': ['16']}"
      ]
     },
     "execution_count": 102,
     "metadata": {},
     "output_type": "execute_result"
    }
   ],
   "source": [
    "dictt = {}\n",
    "dictt = dict(zip(names,adj))\n",
    "dictt\n"
   ]
  },
  {
   "cell_type": "code",
   "execution_count": 103,
   "metadata": {},
   "outputs": [
    {
     "data": {
      "text/plain": [
       "['1',\n",
       " '2',\n",
       " '3',\n",
       " '4',\n",
       " '5',\n",
       " '6',\n",
       " '7',\n",
       " '8',\n",
       " '9',\n",
       " '10',\n",
       " '11',\n",
       " '12',\n",
       " '13',\n",
       " '14',\n",
       " '15',\n",
       " '16']"
      ]
     },
     "execution_count": 103,
     "metadata": {},
     "output_type": "execute_result"
    }
   ],
   "source": [
    "G = nx.Graph(dictt)\n",
    "pos=nx.spring_layout(G)\n",
    "list(G)\n"
   ]
  },
  {
   "cell_type": "code",
   "execution_count": 104,
   "metadata": {},
   "outputs": [
    {
     "data": {
      "text/plain": [
       "<function matplotlib.pyplot.show(*args, **kw)>"
      ]
     },
     "execution_count": 104,
     "metadata": {},
     "output_type": "execute_result"
    },
    {
     "data": {
      "image/png": "[encoded data removed]",
      "text/plain": [
       "<Figure size 936x1008 with 1 Axes>"
      ]
     },
     "metadata": {},
     "output_type": "display_data"
    }
   ],
   "source": [
    "plt.figure(figsize=(13,14))\n",
    "\n",
    "nx.draw(G, with_labels=True, node_size=1200, node_color=\"skyblue\", node_shape=\"s\", alpha=0.5, linewidths=40)\n",
    "\n",
    "plt.show"
   ]
  }
 ],
 "metadata": {
  "kernelspec": {
   "display_name": "Python 3",
   "language": "python",
   "name": "python3"
  },
  "language_info": {
   "codemirror_mode": {
    "name": "ipython",
    "version": 3
   },
   "file_extension": ".py",
   "mimetype": "text/x-python",
   "name": "python",
   "nbconvert_exporter": "python",
   "pygments_lexer": "ipython3",
   "version": "3.7.6"
  }
 },
 "nbformat": 4,
 "nbformat_minor": 4
}
